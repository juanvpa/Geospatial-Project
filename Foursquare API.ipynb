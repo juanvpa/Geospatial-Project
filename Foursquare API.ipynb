{
 "cells": [
  {
   "cell_type": "markdown",
   "id": "cc451589",
   "metadata": {},
   "source": [
    "### CLEANING ALL THE DATA NEED TO MAKE A DECISION\n",
    "\n"
   ]
  },
  {
   "cell_type": "code",
   "execution_count": 155,
   "id": "18829467",
   "metadata": {},
   "outputs": [
    {
     "name": "stdout",
     "output_type": "stream",
     "text": [
      "Requirement already satisfied: pyjsonviewer in /usr/local/Caskroom/miniconda/base/envs/ironhack/lib/python3.8/site-packages (1.6.0)\n",
      "Note: you may need to restart the kernel to use updated packages.\n",
      "zsh:1: no matches found: pymongo[srv]\n",
      "Requirement already satisfied: cartoframes in /usr/local/Caskroom/miniconda/base/lib/python3.8/site-packages (1.2.4)\n",
      "Requirement already satisfied: appdirs<2.0,>=1.4.3 in /usr/local/Caskroom/miniconda/base/lib/python3.8/site-packages (from cartoframes) (1.4.4)\n",
      "Requirement already satisfied: geopandas<1.0,>=0.6.0 in /usr/local/Caskroom/miniconda/base/lib/python3.8/site-packages (from cartoframes) (0.10.2)\n",
      "Requirement already satisfied: unidecode<2.0,>=1.1.0 in /usr/local/Caskroom/miniconda/base/lib/python3.8/site-packages (from cartoframes) (1.3.2)\n",
      "Requirement already satisfied: jinja2<3.0,>=2.10.1 in /usr/local/Caskroom/miniconda/base/lib/python3.8/site-packages (from cartoframes) (2.11.3)\n",
      "Requirement already satisfied: semantic-version<3,>=2.8.0 in /usr/local/Caskroom/miniconda/base/lib/python3.8/site-packages (from cartoframes) (2.8.5)\n",
      "Requirement already satisfied: pandas>=0.25.0 in /usr/local/Caskroom/miniconda/base/lib/python3.8/site-packages (from cartoframes) (1.3.4)\n",
      "Requirement already satisfied: carto<2.0,>=1.11.3 in /usr/local/Caskroom/miniconda/base/lib/python3.8/site-packages (from cartoframes) (1.11.3)\n",
      "Requirement already satisfied: pyrestcli==0.6.11 in /usr/local/Caskroom/miniconda/base/lib/python3.8/site-packages (from carto<2.0,>=1.11.3->cartoframes) (0.6.11)\n",
      "Requirement already satisfied: requests>=2.7.0 in /usr/local/Caskroom/miniconda/base/lib/python3.8/site-packages (from carto<2.0,>=1.11.3->cartoframes) (2.25.1)\n",
      "Requirement already satisfied: future>=0.15.2 in /usr/local/Caskroom/miniconda/base/lib/python3.8/site-packages (from pyrestcli==0.6.11->carto<2.0,>=1.11.3->cartoframes) (0.18.2)\n",
      "Requirement already satisfied: python-dateutil>=2.5.3 in /usr/local/Caskroom/miniconda/base/lib/python3.8/site-packages (from pyrestcli==0.6.11->carto<2.0,>=1.11.3->cartoframes) (2.8.2)\n",
      "Requirement already satisfied: shapely>=1.6 in /usr/local/Caskroom/miniconda/base/lib/python3.8/site-packages (from geopandas<1.0,>=0.6.0->cartoframes) (1.8.0)\n",
      "Requirement already satisfied: fiona>=1.8 in /usr/local/Caskroom/miniconda/base/lib/python3.8/site-packages (from geopandas<1.0,>=0.6.0->cartoframes) (1.8.20)\n",
      "Requirement already satisfied: pyproj>=2.2.0 in /usr/local/Caskroom/miniconda/base/lib/python3.8/site-packages (from geopandas<1.0,>=0.6.0->cartoframes) (3.2.1)\n",
      "Requirement already satisfied: attrs>=17 in /usr/local/Caskroom/miniconda/base/lib/python3.8/site-packages (from fiona>=1.8->geopandas<1.0,>=0.6.0->cartoframes) (21.2.0)\n",
      "Requirement already satisfied: six>=1.7 in /usr/local/Caskroom/miniconda/base/lib/python3.8/site-packages (from fiona>=1.8->geopandas<1.0,>=0.6.0->cartoframes) (1.16.0)\n",
      "Requirement already satisfied: certifi in /usr/local/Caskroom/miniconda/base/lib/python3.8/site-packages (from fiona>=1.8->geopandas<1.0,>=0.6.0->cartoframes) (2020.6.20)\n",
      "Requirement already satisfied: cligj>=0.5 in /usr/local/Caskroom/miniconda/base/lib/python3.8/site-packages (from fiona>=1.8->geopandas<1.0,>=0.6.0->cartoframes) (0.7.2)\n",
      "Requirement already satisfied: setuptools in /usr/local/Caskroom/miniconda/base/lib/python3.8/site-packages (from fiona>=1.8->geopandas<1.0,>=0.6.0->cartoframes) (52.0.0.post20210125)\n",
      "Requirement already satisfied: click>=4.0 in /usr/local/Caskroom/miniconda/base/lib/python3.8/site-packages (from fiona>=1.8->geopandas<1.0,>=0.6.0->cartoframes) (8.0.3)\n",
      "Requirement already satisfied: click-plugins>=1.0 in /usr/local/Caskroom/miniconda/base/lib/python3.8/site-packages (from fiona>=1.8->geopandas<1.0,>=0.6.0->cartoframes) (1.1.1)\n",
      "Requirement already satisfied: munch in /usr/local/Caskroom/miniconda/base/lib/python3.8/site-packages (from fiona>=1.8->geopandas<1.0,>=0.6.0->cartoframes) (2.5.0)\n",
      "Requirement already satisfied: MarkupSafe>=0.23 in /usr/local/Caskroom/miniconda/base/lib/python3.8/site-packages (from jinja2<3.0,>=2.10.1->cartoframes) (2.0.1)\n",
      "Requirement already satisfied: pytz>=2017.3 in /usr/local/Caskroom/miniconda/base/lib/python3.8/site-packages (from pandas>=0.25.0->cartoframes) (2021.3)\n",
      "Requirement already satisfied: numpy>=1.17.3 in /usr/local/Caskroom/miniconda/base/lib/python3.8/site-packages (from pandas>=0.25.0->cartoframes) (1.21.2)\n",
      "Requirement already satisfied: urllib3<1.27,>=1.21.1 in /usr/local/Caskroom/miniconda/base/lib/python3.8/site-packages (from requests>=2.7.0->carto<2.0,>=1.11.3->cartoframes) (1.26.6)\n",
      "Requirement already satisfied: idna<3,>=2.5 in /usr/local/Caskroom/miniconda/base/lib/python3.8/site-packages (from requests>=2.7.0->carto<2.0,>=1.11.3->cartoframes) (2.10)\n",
      "Requirement already satisfied: chardet<5,>=3.0.2 in /usr/local/Caskroom/miniconda/base/lib/python3.8/site-packages (from requests>=2.7.0->carto<2.0,>=1.11.3->cartoframes) (4.0.0)\n",
      "Requirement already satisfied: geopandas in /usr/local/Caskroom/miniconda/base/lib/python3.8/site-packages (0.10.2)\n",
      "Requirement already satisfied: pandas>=0.25.0 in /usr/local/Caskroom/miniconda/base/lib/python3.8/site-packages (from geopandas) (1.3.4)\n",
      "Requirement already satisfied: fiona>=1.8 in /usr/local/Caskroom/miniconda/base/lib/python3.8/site-packages (from geopandas) (1.8.20)\n",
      "Requirement already satisfied: shapely>=1.6 in /usr/local/Caskroom/miniconda/base/lib/python3.8/site-packages (from geopandas) (1.8.0)\n",
      "Requirement already satisfied: pyproj>=2.2.0 in /usr/local/Caskroom/miniconda/base/lib/python3.8/site-packages (from geopandas) (3.2.1)\n",
      "Requirement already satisfied: six>=1.7 in /usr/local/Caskroom/miniconda/base/lib/python3.8/site-packages (from fiona>=1.8->geopandas) (1.16.0)\n",
      "Requirement already satisfied: click>=4.0 in /usr/local/Caskroom/miniconda/base/lib/python3.8/site-packages (from fiona>=1.8->geopandas) (8.0.3)\n",
      "Requirement already satisfied: click-plugins>=1.0 in /usr/local/Caskroom/miniconda/base/lib/python3.8/site-packages (from fiona>=1.8->geopandas) (1.1.1)\n",
      "Requirement already satisfied: munch in /usr/local/Caskroom/miniconda/base/lib/python3.8/site-packages (from fiona>=1.8->geopandas) (2.5.0)\n",
      "Requirement already satisfied: certifi in /usr/local/Caskroom/miniconda/base/lib/python3.8/site-packages (from fiona>=1.8->geopandas) (2020.6.20)\n",
      "Requirement already satisfied: attrs>=17 in /usr/local/Caskroom/miniconda/base/lib/python3.8/site-packages (from fiona>=1.8->geopandas) (21.2.0)\n",
      "Requirement already satisfied: setuptools in /usr/local/Caskroom/miniconda/base/lib/python3.8/site-packages (from fiona>=1.8->geopandas) (52.0.0.post20210125)\n",
      "Requirement already satisfied: cligj>=0.5 in /usr/local/Caskroom/miniconda/base/lib/python3.8/site-packages (from fiona>=1.8->geopandas) (0.7.2)\n",
      "Requirement already satisfied: python-dateutil>=2.7.3 in /usr/local/Caskroom/miniconda/base/lib/python3.8/site-packages (from pandas>=0.25.0->geopandas) (2.8.2)\n",
      "Requirement already satisfied: numpy>=1.17.3 in /usr/local/Caskroom/miniconda/base/lib/python3.8/site-packages (from pandas>=0.25.0->geopandas) (1.21.2)\n",
      "Requirement already satisfied: pytz>=2017.3 in /usr/local/Caskroom/miniconda/base/lib/python3.8/site-packages (from pandas>=0.25.0->geopandas) (2021.3)\n"
     ]
    }
   ],
   "source": [
    "%pip install pyjsonviewer\n",
    "!pip install pymongo[srv]\n",
    "!pip install cartoframes\n",
    "!pip install geopandas\n",
    "import requests\n",
    "import json\n",
    "from dotenv import load_dotenv\n",
    "import os\n",
    "import pandas as pd\n",
    "from pymongo import MongoClient\n",
    "import numpy as np\n",
    "import pyjsonviewer\n",
    "from functools import reduce\n",
    "import operator\n",
    "import geopandas as gpd\n",
    "import shapely.geometry\n",
    "from pymongo import MongoClient\n",
    "from pymongo import GEOSPHERE"
   ]
  },
  {
   "cell_type": "markdown",
   "id": "f541943c",
   "metadata": {},
   "source": [
    "##### LAST PROJECT I FOUND THAT SAN FRANCISCO, NEW YORK & BEIJING HAD THE HIGHEST NUMBER OF TECH COMPANIES ABOVE 1 BILLION VALUATION. LET'S ADD MADRID TO THE PROJECT AND SEE WHICH ONE SUITS US BETTER FOR THE OFFICE"
   ]
  },
  {
   "cell_type": "code",
   "execution_count": 2,
   "id": "2c3f1c4a",
   "metadata": {},
   "outputs": [],
   "source": [
    "sv = \"1 Hacker Way, California\"\n",
    "ny = \"117 W 56th St, New York\"\n",
    "be = \"16 Fengguan Rd, Beijing\"\n",
    "md = \"Paseo de la chopera 14, Madrid\""
   ]
  },
  {
   "cell_type": "code",
   "execution_count": 3,
   "id": "59c0a67f",
   "metadata": {},
   "outputs": [],
   "source": [
    "def geocode(direccion):\n",
    "    \"\"\"\n",
    "    Esta función saca las coordenadas de la dirección que le pases\n",
    "    \"\"\"\n",
    "    data = requests.get(f\"https://geocode.xyz/{direccion}?json=1\").json()\n",
    "    \n",
    "    try:\n",
    "        return {\"type\": \"Point\", \"coordinates\": [data[\"latt\"], data[\"longt\"]]}\n",
    "    except:\n",
    "        return data"
   ]
  },
  {
   "cell_type": "markdown",
   "id": "26ee88ea",
   "metadata": {},
   "source": [
    "##### SACAMOS LAS COORDENADAS DE LAS CUATRO CIUDADES Y CREAMOS UN DICCIONARIO CON LOS VENUES"
   ]
  },
  {
   "cell_type": "code",
   "execution_count": 4,
   "id": "4ebc5b07",
   "metadata": {},
   "outputs": [
    {
     "name": "stdout",
     "output_type": "stream",
     "text": [
      "{'type': 'Point', 'coordinates': ['40.39652', '-3.70110']}\n"
     ]
    }
   ],
   "source": [
    "madrid = geocode(\"Paseo de la chopera 14, Madrid\")\n",
    "print(madrid)"
   ]
  },
  {
   "cell_type": "code",
   "execution_count": 5,
   "id": "3a4c43c8",
   "metadata": {},
   "outputs": [],
   "source": [
    "mad = {\n",
    "    'city':'madrid',\n",
    "    'coordinates': ['40.39652', '-3.70110'],\n",
    "    'venue': ['Nightlife Spot', 'Basketball Court', 'Preschool', 'Travel & Transport']}"
   ]
  },
  {
   "cell_type": "code",
   "execution_count": 13,
   "id": "9faa8c44",
   "metadata": {},
   "outputs": [
    {
     "name": "stdout",
     "output_type": "stream",
     "text": [
      "{'type': 'Point', 'coordinates': ['39.86048', '116.31072']}\n"
     ]
    }
   ],
   "source": [
    "beijing = geocode(\"16 Fengguan Rd, Beijing\")\n",
    "print(beijing)"
   ]
  },
  {
   "cell_type": "code",
   "execution_count": 14,
   "id": "7bd3ef3d",
   "metadata": {},
   "outputs": [],
   "source": [
    "bei = {\n",
    "    'city':'beijing',\n",
    "    'coordinates': ['39.86048', '116.31072'],\n",
    "    'venue': ['Nightlife Spot', 'Basketball Court', 'Preschool', 'Travel & Transport']}"
   ]
  },
  {
   "cell_type": "code",
   "execution_count": 8,
   "id": "d01a7e0b",
   "metadata": {},
   "outputs": [
    {
     "name": "stdout",
     "output_type": "stream",
     "text": [
      "{'type': 'Point', 'coordinates': ['37.66852', '-122.40809']}\n"
     ]
    }
   ],
   "source": [
    "sanfran = geocode(\"1 Hacker Way, San Francisco\")\n",
    "print(sanfran)"
   ]
  },
  {
   "cell_type": "code",
   "execution_count": 15,
   "id": "c7172d0e",
   "metadata": {},
   "outputs": [],
   "source": [
    "sfr = {\n",
    "    'city':'sanfran',\n",
    "    'coordinates': ['37.66852', '-122.40809'],\n",
    "    'venue': ['Nightlife Spot', 'Basketball Court', 'Preschool', 'Travel & Transport']}"
   ]
  },
  {
   "cell_type": "code",
   "execution_count": 10,
   "id": "517b3e9c",
   "metadata": {},
   "outputs": [
    {
     "name": "stdout",
     "output_type": "stream",
     "text": [
      "{'type': 'Point', 'coordinates': ['40.76384', '-73.97815']}\n"
     ]
    }
   ],
   "source": [
    "newyork = geocode(\"117 W 56th St, New York\")\n",
    "print(newyork)"
   ]
  },
  {
   "cell_type": "code",
   "execution_count": 16,
   "id": "65a572ff",
   "metadata": {},
   "outputs": [],
   "source": [
    "new = {\n",
    "    'city':'newyork', \n",
    "    'coordinates': ['40.76384', '-73.97815'],\n",
    "    'venue': ['Nightlife Spot', 'Basketball Court', 'Preschool', 'Travel & Transport']}"
   ]
  },
  {
   "cell_type": "markdown",
   "id": "11ea740b",
   "metadata": {},
   "source": [
    "##### FOURSQUARE API"
   ]
  },
  {
   "cell_type": "code",
   "execution_count": 17,
   "id": "6a41a6ca",
   "metadata": {},
   "outputs": [
    {
     "name": "stdout",
     "output_type": "stream",
     "text": [
      "True\n"
     ]
    }
   ],
   "source": [
    "print(load_dotenv())"
   ]
  },
  {
   "cell_type": "code",
   "execution_count": 18,
   "id": "fef65f0f",
   "metadata": {},
   "outputs": [],
   "source": [
    "client_id = os.getenv(\"fsqclient\")\n",
    "client_secret = os.getenv(\"fsqsecret\")"
   ]
  },
  {
   "cell_type": "code",
   "execution_count": 19,
   "id": "ef264f3c",
   "metadata": {},
   "outputs": [],
   "source": [
    "url = \"https://favqs.com/api/session\"\n",
    "url_query = 'https://api.foursquare.com/v2/venues/search'\n",
    "url_recomendados = 'https://api.foursquare.com/v2/venues/explore'"
   ]
  },
  {
   "cell_type": "markdown",
   "id": "93cd59cf",
   "metadata": {},
   "source": [
    "##### MADRID\n"
   ]
  },
  {
   "cell_type": "code",
   "execution_count": 20,
   "id": "5c606cce",
   "metadata": {},
   "outputs": [],
   "source": [
    "parametros = {\n",
    "    \"client_id\": client_id,\n",
    "    \"client_secret\": client_secret,\n",
    "    \"v\": \"20180323\",\n",
    "    \"ll\": f\"{mad['coordinates'][0]}, {mad['coordinates'][1]}\",\n",
    "    \"query\": \"PreSchool\",\n",
    "    \"radius\": \"3000\"}"
   ]
  },
  {
   "cell_type": "code",
   "execution_count": 21,
   "id": "fa6bb0b7",
   "metadata": {},
   "outputs": [],
   "source": [
    "mad_school = requests.get(url_query, params = parametros).json()\n",
    "#mad_school[\"response\"][\"venues\"]"
   ]
  },
  {
   "cell_type": "code",
   "execution_count": 23,
   "id": "a71f4f8f",
   "metadata": {},
   "outputs": [],
   "source": [
    "data1 = mad_school[\"response\"][\"venues\"]\n",
    "df1 = pd.DataFrame(data1)"
   ]
  },
  {
   "cell_type": "code",
   "execution_count": 24,
   "id": "a16921ed",
   "metadata": {},
   "outputs": [],
   "source": [
    "parametros = {\n",
    "    \"client_id\": client_id,\n",
    "    \"client_secret\": client_secret,\n",
    "    \"v\": \"20180323\",\n",
    "    \"ll\": f\"{mad['coordinates'][0]}, {mad['coordinates'][1]}\",\n",
    "    \"query\": \"Bar\",\n",
    "    \"radius\": \"3000\"}"
   ]
  },
  {
   "cell_type": "code",
   "execution_count": 25,
   "id": "4b911917",
   "metadata": {},
   "outputs": [],
   "source": [
    "mad_night = requests.get(url_query, params = parametros).json()\n",
    "#mad_night[\"response\"][\"venues\"]"
   ]
  },
  {
   "cell_type": "code",
   "execution_count": 26,
   "id": "bbff5bf5",
   "metadata": {},
   "outputs": [],
   "source": [
    "data2 = mad_night[\"response\"][\"venues\"]\n",
    "df2 = pd.DataFrame(data2)"
   ]
  },
  {
   "cell_type": "code",
   "execution_count": 27,
   "id": "17270e9e",
   "metadata": {},
   "outputs": [],
   "source": [
    "parametros = {\n",
    "    \"client_id\": client_id,\n",
    "    \"client_secret\": client_secret,\n",
    "    \"v\": \"20180323\",\n",
    "    \"ll\": f\"{mad['coordinates'][0]}, {mad['coordinates'][1]}\",\n",
    "    \"query\": \"Baloncesto\",\n",
    "    \"radius\": \"3000\"}"
   ]
  },
  {
   "cell_type": "code",
   "execution_count": 28,
   "id": "8fd7d159",
   "metadata": {},
   "outputs": [],
   "source": [
    "mad_bask = requests.get(url_query, params = parametros).json()\n",
    "#mad_bask[\"response\"][\"venues\"]"
   ]
  },
  {
   "cell_type": "code",
   "execution_count": 29,
   "id": "97cac215",
   "metadata": {},
   "outputs": [],
   "source": [
    "data3 = mad_bask[\"response\"][\"venues\"]\n",
    "df3 = pd.DataFrame(data3)"
   ]
  },
  {
   "cell_type": "code",
   "execution_count": 30,
   "id": "cb68aa2c",
   "metadata": {},
   "outputs": [],
   "source": [
    "parametros = {\n",
    "    \"client_id\": client_id,\n",
    "    \"client_secret\": client_secret,\n",
    "    \"v\": \"20180323\",\n",
    "    \"ll\": f\"{mad['coordinates'][0]}, {mad['coordinates'][1]}\",\n",
    "    \"query\": \"Airport\",\n",
    "    \"radius\": \"3000\"}"
   ]
  },
  {
   "cell_type": "code",
   "execution_count": 31,
   "id": "dbbdc9e6",
   "metadata": {},
   "outputs": [],
   "source": [
    "mad_travel = requests.get(url_query, params = parametros).json()\n",
    "#mad_travel[\"response\"][\"venues\"]"
   ]
  },
  {
   "cell_type": "code",
   "execution_count": 32,
   "id": "6e86eb22",
   "metadata": {},
   "outputs": [],
   "source": [
    "data4 = mad_travel[\"response\"][\"venues\"]\n",
    "df4 = pd.DataFrame(data4)"
   ]
  },
  {
   "cell_type": "markdown",
   "id": "e66f68f1",
   "metadata": {},
   "source": [
    "##### UNIMOS TODA LA INFO SOBRE MADRID EN UN ÚNICO DATAFRAME"
   ]
  },
  {
   "cell_type": "code",
   "execution_count": 34,
   "id": "fe07c852",
   "metadata": {
    "scrolled": true
   },
   "outputs": [],
   "source": [
    "dfmad = pd.concat([df1, df2, df3, df4])"
   ]
  },
  {
   "cell_type": "code",
   "execution_count": 35,
   "id": "518a5566",
   "metadata": {},
   "outputs": [],
   "source": [
    "dfname = dfmad[\"name\"]\n",
    "dfn = pd.DataFrame(dfname)"
   ]
  },
  {
   "cell_type": "code",
   "execution_count": 36,
   "id": "ad7c4b0a",
   "metadata": {},
   "outputs": [],
   "source": [
    "df_ = dfmad.iloc[:, 1:5]"
   ]
  },
  {
   "cell_type": "code",
   "execution_count": 37,
   "id": "f661dbf6",
   "metadata": {},
   "outputs": [],
   "source": [
    "x = df_[\"location\"].apply(pd.Series)\n",
    "x = x[[\"lat\", \"lng\", \"distance\", \"address\"]]"
   ]
  },
  {
   "cell_type": "code",
   "execution_count": 39,
   "id": "2a21ea45",
   "metadata": {},
   "outputs": [],
   "source": [
    "dffinalmad = pd.concat([x, dfn], axis = 1)"
   ]
  },
  {
   "cell_type": "markdown",
   "id": "d77ad5d1",
   "metadata": {},
   "source": [
    "##### BEIJING"
   ]
  },
  {
   "cell_type": "code",
   "execution_count": 40,
   "id": "8e433e0f",
   "metadata": {},
   "outputs": [],
   "source": [
    "parametros = {\n",
    "    \"client_id\": client_id,\n",
    "    \"client_secret\": client_secret,\n",
    "    \"v\": \"20180323\",\n",
    "    \"ll\": f\"{bei['coordinates'][0]}, {bei['coordinates'][1]}\",\n",
    "    \"query\": \"PreSchool\",\n",
    "    \"radius\": \"3000\"}"
   ]
  },
  {
   "cell_type": "code",
   "execution_count": 41,
   "id": "7249412c",
   "metadata": {},
   "outputs": [],
   "source": [
    "bei_school = requests.get(url_query, params = parametros).json()\n",
    "#bei_school[\"response\"][\"venues\"]"
   ]
  },
  {
   "cell_type": "code",
   "execution_count": 42,
   "id": "ccc27c14",
   "metadata": {},
   "outputs": [],
   "source": [
    "data5 = bei_school[\"response\"][\"venues\"]\n",
    "df5 = pd.DataFrame(data5)"
   ]
  },
  {
   "cell_type": "code",
   "execution_count": 43,
   "id": "256f946d",
   "metadata": {},
   "outputs": [],
   "source": [
    "parametros = {\n",
    "    \"client_id\": client_id,\n",
    "    \"client_secret\": client_secret,\n",
    "    \"v\": \"20180323\",\n",
    "    \"ll\": f\"{bei['coordinates'][0]}, {bei['coordinates'][1]}\",\n",
    "    \"query\": \"Bar\",\n",
    "    \"radius\": \"3000\"}"
   ]
  },
  {
   "cell_type": "code",
   "execution_count": 44,
   "id": "2f4e23d9",
   "metadata": {},
   "outputs": [],
   "source": [
    "bei_night = requests.get(url_query, params = parametros).json()\n",
    "#bei_night[\"response\"][\"venues\"]"
   ]
  },
  {
   "cell_type": "code",
   "execution_count": 45,
   "id": "03f06598",
   "metadata": {},
   "outputs": [],
   "source": [
    "data6 = bei_night[\"response\"][\"venues\"]\n",
    "df6 = pd.DataFrame(data6)"
   ]
  },
  {
   "cell_type": "code",
   "execution_count": 46,
   "id": "8b087c05",
   "metadata": {},
   "outputs": [],
   "source": [
    "parametros = {\n",
    "    \"client_id\": client_id,\n",
    "    \"client_secret\": client_secret,\n",
    "    \"v\": \"20180323\",\n",
    "    \"ll\": f\"{bei['coordinates'][0]}, {bei['coordinates'][1]}\",\n",
    "    \"query\": \"Basketball\",\n",
    "    \"radius\": \"3000\"}"
   ]
  },
  {
   "cell_type": "code",
   "execution_count": 47,
   "id": "59049cf3",
   "metadata": {},
   "outputs": [],
   "source": [
    "bei_bask = requests.get(url_query, params = parametros).json()\n",
    "#bei_bask[\"response\"][\"venues\"]"
   ]
  },
  {
   "cell_type": "code",
   "execution_count": 48,
   "id": "3ffa978c",
   "metadata": {},
   "outputs": [],
   "source": [
    "data7 = bei_bask[\"response\"][\"venues\"]\n",
    "df7 = pd.DataFrame(data7)"
   ]
  },
  {
   "cell_type": "code",
   "execution_count": 49,
   "id": "644fb229",
   "metadata": {},
   "outputs": [],
   "source": [
    "parametros = {\n",
    "    \"client_id\": client_id,\n",
    "    \"client_secret\": client_secret,\n",
    "    \"v\": \"20180323\",\n",
    "    \"ll\": f\"{bei['coordinates'][0]}, {bei['coordinates'][1]}\",\n",
    "    \"query\": \"Airport\",\n",
    "    \"radius\": \"3000\"}"
   ]
  },
  {
   "cell_type": "code",
   "execution_count": 50,
   "id": "ac97dfc4",
   "metadata": {},
   "outputs": [],
   "source": [
    "bei_travel = requests.get(url_query, params = parametros).json()\n",
    "#bei_travel[\"response\"][\"venues\"]"
   ]
  },
  {
   "cell_type": "code",
   "execution_count": 51,
   "id": "779a04cd",
   "metadata": {},
   "outputs": [],
   "source": [
    "data8 = bei_travel[\"response\"][\"venues\"]\n",
    "df8 = pd.DataFrame(data8)"
   ]
  },
  {
   "cell_type": "markdown",
   "id": "57ae12f8",
   "metadata": {},
   "source": [
    "##### UNIMOS TODA LA INFO SOBRE BEIJING EN UN ÚNICO DATAFRAME"
   ]
  },
  {
   "cell_type": "code",
   "execution_count": 53,
   "id": "3ba0a273",
   "metadata": {},
   "outputs": [],
   "source": [
    "dfbei = pd.concat([df5, df6, df7, df8])"
   ]
  },
  {
   "cell_type": "code",
   "execution_count": 54,
   "id": "be8ee9f3",
   "metadata": {},
   "outputs": [],
   "source": [
    "dfname = dfbei[\"name\"]\n",
    "dfn = pd.DataFrame(dfname)"
   ]
  },
  {
   "cell_type": "code",
   "execution_count": 55,
   "id": "238c3952",
   "metadata": {},
   "outputs": [],
   "source": [
    "df_1 = dfbei.iloc[:, 1:5]"
   ]
  },
  {
   "cell_type": "code",
   "execution_count": 56,
   "id": "bccdb53b",
   "metadata": {},
   "outputs": [],
   "source": [
    "x1 = df_1[\"location\"].apply(pd.Series)\n",
    "x1 = x1[[\"lat\", \"lng\", \"distance\", \"address\"]]"
   ]
  },
  {
   "cell_type": "code",
   "execution_count": 57,
   "id": "7b152e69",
   "metadata": {},
   "outputs": [],
   "source": [
    "dffinalbei = pd.concat([x1, dfn], axis = 1)"
   ]
  },
  {
   "cell_type": "markdown",
   "id": "bc46afaf",
   "metadata": {},
   "source": [
    "##### SAN FRANCISCO"
   ]
  },
  {
   "cell_type": "code",
   "execution_count": 58,
   "id": "525957b2",
   "metadata": {},
   "outputs": [],
   "source": [
    "parametros = {\n",
    "    \"client_id\": client_id,\n",
    "    \"client_secret\": client_secret,\n",
    "    \"v\": \"20180323\",\n",
    "    \"ll\": f\"{sfr['coordinates'][0]}, {sfr['coordinates'][1]}\",\n",
    "    \"query\": \"PreSchool\",\n",
    "    \"radius\": \"3000\"}"
   ]
  },
  {
   "cell_type": "code",
   "execution_count": 59,
   "id": "746a38ce",
   "metadata": {},
   "outputs": [],
   "source": [
    "sfr_school = requests.get(url_query, params = parametros).json()\n",
    "#sfr_school[\"response\"][\"venues\"]"
   ]
  },
  {
   "cell_type": "code",
   "execution_count": 60,
   "id": "1c0a4a72",
   "metadata": {},
   "outputs": [],
   "source": [
    "data9 = sfr_school[\"response\"][\"venues\"]\n",
    "df9 = pd.DataFrame(data9)"
   ]
  },
  {
   "cell_type": "code",
   "execution_count": 61,
   "id": "f7a85e80",
   "metadata": {},
   "outputs": [],
   "source": [
    "parametros = {\n",
    "    \"client_id\": client_id,\n",
    "    \"client_secret\": client_secret,\n",
    "    \"v\": \"20180323\",\n",
    "    \"ll\": f\"{sfr['coordinates'][0]}, {sfr['coordinates'][1]}\",\n",
    "    \"query\": \"Bar\",\n",
    "    \"radius\": \"3000\"}"
   ]
  },
  {
   "cell_type": "code",
   "execution_count": 62,
   "id": "19e60500",
   "metadata": {},
   "outputs": [],
   "source": [
    "sfr_night = requests.get(url_query, params = parametros).json()\n",
    "#sfr_night[\"response\"][\"venues\"]"
   ]
  },
  {
   "cell_type": "code",
   "execution_count": 63,
   "id": "ac5d0860",
   "metadata": {},
   "outputs": [],
   "source": [
    "data10 = sfr_night[\"response\"][\"venues\"]\n",
    "df10 = pd.DataFrame(data10)"
   ]
  },
  {
   "cell_type": "code",
   "execution_count": 64,
   "id": "aca5310d",
   "metadata": {},
   "outputs": [],
   "source": [
    "parametros = {\n",
    "    \"client_id\": client_id,\n",
    "    \"client_secret\": client_secret,\n",
    "    \"v\": \"20180323\",\n",
    "    \"ll\": f\"{sfr['coordinates'][0]}, {sfr['coordinates'][1]}\",\n",
    "    \"query\": \"Basketball Court\",\n",
    "    \"radius\": \"3000\"}"
   ]
  },
  {
   "cell_type": "code",
   "execution_count": 65,
   "id": "73804485",
   "metadata": {},
   "outputs": [],
   "source": [
    "sfr_bask = requests.get(url_query, params = parametros).json()\n",
    "#sfr_bask[\"response\"][\"venues\"]"
   ]
  },
  {
   "cell_type": "code",
   "execution_count": 66,
   "id": "21c1b51a",
   "metadata": {},
   "outputs": [],
   "source": [
    "data11 = sfr_bask[\"response\"][\"venues\"]\n",
    "df11 = pd.DataFrame(data11)"
   ]
  },
  {
   "cell_type": "code",
   "execution_count": 67,
   "id": "8dc1b883",
   "metadata": {},
   "outputs": [],
   "source": [
    "parametros = {\n",
    "    \"client_id\": client_id,\n",
    "    \"client_secret\": client_secret,\n",
    "    \"v\": \"20180323\",\n",
    "    \"ll\": f\"{sfr['coordinates'][0]}, {sfr['coordinates'][1]}\",\n",
    "    \"query\": \"Airport\",\n",
    "    \"radius\": \"3000\"}"
   ]
  },
  {
   "cell_type": "code",
   "execution_count": 68,
   "id": "e8c4148e",
   "metadata": {},
   "outputs": [],
   "source": [
    "sfr_travel = requests.get(url_query, params = parametros).json()\n",
    "#sfr_travel[\"response\"][\"venues\"]"
   ]
  },
  {
   "cell_type": "code",
   "execution_count": 69,
   "id": "da998ed2",
   "metadata": {},
   "outputs": [],
   "source": [
    "data12 = sfr_travel[\"response\"][\"venues\"]\n",
    "df12 = pd.DataFrame(data12)"
   ]
  },
  {
   "cell_type": "markdown",
   "id": "26313947",
   "metadata": {},
   "source": [
    "##### UNIMOS TODA LA INFO DE SAN FRANCISCO EN UN ÚNICO DATAFRAME"
   ]
  },
  {
   "cell_type": "code",
   "execution_count": 70,
   "id": "160cb611",
   "metadata": {},
   "outputs": [],
   "source": [
    "dfsan = pd.concat([df9, df10, df11, df12])"
   ]
  },
  {
   "cell_type": "code",
   "execution_count": 71,
   "id": "ccce1e9e",
   "metadata": {},
   "outputs": [],
   "source": [
    "dfname = dfsan[\"name\"]\n",
    "dfn = pd.DataFrame(dfname)"
   ]
  },
  {
   "cell_type": "code",
   "execution_count": 72,
   "id": "1ed86a67",
   "metadata": {},
   "outputs": [],
   "source": [
    "df_2 = dfsan.iloc[:, 1:5]"
   ]
  },
  {
   "cell_type": "code",
   "execution_count": 73,
   "id": "a413f37e",
   "metadata": {},
   "outputs": [],
   "source": [
    "x2 = df_2[\"location\"].apply(pd.Series)\n",
    "x2 = x2[[\"lat\", \"lng\", \"distance\", \"address\"]]"
   ]
  },
  {
   "cell_type": "code",
   "execution_count": 74,
   "id": "6b607a9e",
   "metadata": {},
   "outputs": [],
   "source": [
    "dffinalsan = pd.concat([x2, dfn], axis = 1)"
   ]
  },
  {
   "cell_type": "markdown",
   "id": "d02bcfb6",
   "metadata": {},
   "source": [
    "##### NEW YORK"
   ]
  },
  {
   "cell_type": "code",
   "execution_count": 75,
   "id": "b5f75f9c",
   "metadata": {},
   "outputs": [],
   "source": [
    "parametros = {\n",
    "    \"client_id\": client_id,\n",
    "    \"client_secret\": client_secret,\n",
    "    \"v\": \"20180323\",\n",
    "    \"ll\": f\"{new['coordinates'][0]}, {new['coordinates'][1]}\",\n",
    "    \"query\": \"PreSchool\",\n",
    "    \"radius\": \"3000\"}"
   ]
  },
  {
   "cell_type": "code",
   "execution_count": 76,
   "id": "dac04e38",
   "metadata": {},
   "outputs": [],
   "source": [
    "new_school = requests.get(url_query, params = parametros).json()\n",
    "#new_school[\"response\"][\"venues\"]"
   ]
  },
  {
   "cell_type": "code",
   "execution_count": 77,
   "id": "144a0bc0",
   "metadata": {},
   "outputs": [],
   "source": [
    "data13 = new_school[\"response\"][\"venues\"]\n",
    "df13 = pd.DataFrame(data13)"
   ]
  },
  {
   "cell_type": "code",
   "execution_count": 78,
   "id": "2ef3fa9d",
   "metadata": {},
   "outputs": [],
   "source": [
    "parametros = {\n",
    "    \"client_id\": client_id,\n",
    "    \"client_secret\": client_secret,\n",
    "    \"v\": \"20180323\",\n",
    "    \"ll\": f\"{new['coordinates'][0]}, {new['coordinates'][1]}\",\n",
    "    \"query\": \"Bar\",\n",
    "    \"radius\": \"3000\"}"
   ]
  },
  {
   "cell_type": "code",
   "execution_count": 79,
   "id": "c1d2c5c2",
   "metadata": {},
   "outputs": [],
   "source": [
    "new_night = requests.get(url_query, params = parametros).json()\n",
    "#new_night[\"response\"][\"venues\"]"
   ]
  },
  {
   "cell_type": "code",
   "execution_count": 80,
   "id": "adab82d7",
   "metadata": {},
   "outputs": [],
   "source": [
    "data14 = new_night[\"response\"][\"venues\"]\n",
    "df14 = pd.DataFrame(data14)"
   ]
  },
  {
   "cell_type": "code",
   "execution_count": 81,
   "id": "78839642",
   "metadata": {},
   "outputs": [],
   "source": [
    "parametros = {\n",
    "    \"client_id\": client_id,\n",
    "    \"client_secret\": client_secret,\n",
    "    \"v\": \"20180323\",\n",
    "    \"ll\": f\"{new['coordinates'][0]}, {new['coordinates'][1]}\",\n",
    "    \"query\": \"Basketball Court\",\n",
    "    \"radius\": \"3000\"}"
   ]
  },
  {
   "cell_type": "code",
   "execution_count": 82,
   "id": "094aca9c",
   "metadata": {},
   "outputs": [],
   "source": [
    "new_bask = requests.get(url_query, params = parametros).json()\n",
    "#new_bask[\"response\"][\"venues\"]"
   ]
  },
  {
   "cell_type": "code",
   "execution_count": 83,
   "id": "62e06113",
   "metadata": {},
   "outputs": [],
   "source": [
    "data15 = new_bask[\"response\"][\"venues\"]\n",
    "df15 = pd.DataFrame(data15)"
   ]
  },
  {
   "cell_type": "code",
   "execution_count": 84,
   "id": "9bb296a9",
   "metadata": {},
   "outputs": [],
   "source": [
    "parametros = {\n",
    "    \"client_id\": client_id,\n",
    "    \"client_secret\": client_secret,\n",
    "    \"v\": \"20180323\",\n",
    "    \"ll\": f\"{new['coordinates'][0]}, {new['coordinates'][1]}\",\n",
    "    \"query\": \"Airport\",\n",
    "    \"radius\": \"3000\"}"
   ]
  },
  {
   "cell_type": "code",
   "execution_count": 85,
   "id": "e64682dc",
   "metadata": {},
   "outputs": [],
   "source": [
    "new_travel = requests.get(url_query, params = parametros).json()\n",
    "#new_travel[\"response\"][\"venues\"]"
   ]
  },
  {
   "cell_type": "code",
   "execution_count": 86,
   "id": "0acdc915",
   "metadata": {},
   "outputs": [],
   "source": [
    "data16 = new_travel[\"response\"][\"venues\"]\n",
    "df16 = pd.DataFrame(data16)"
   ]
  },
  {
   "cell_type": "markdown",
   "id": "d943cf0d",
   "metadata": {},
   "source": [
    "##### UNIMOS TODA LA INFO SOBRE NEW YORK EN UN ÚNICO DATAFRAME"
   ]
  },
  {
   "cell_type": "code",
   "execution_count": 87,
   "id": "c9cc8811",
   "metadata": {},
   "outputs": [],
   "source": [
    "dfnew = pd.concat([df13, df14, df15, df16])"
   ]
  },
  {
   "cell_type": "code",
   "execution_count": 88,
   "id": "a3466432",
   "metadata": {},
   "outputs": [],
   "source": [
    "dfname = dfnew[\"name\"]\n",
    "dfn = pd.DataFrame(dfname)"
   ]
  },
  {
   "cell_type": "code",
   "execution_count": 89,
   "id": "4c0c904c",
   "metadata": {},
   "outputs": [],
   "source": [
    "df_3 = dfnew.iloc[:, 1:5]"
   ]
  },
  {
   "cell_type": "code",
   "execution_count": 90,
   "id": "6c46a4db",
   "metadata": {},
   "outputs": [],
   "source": [
    "x3 = df_3[\"location\"].apply(pd.Series)\n",
    "x3 = x3[[\"lat\", \"lng\", \"distance\", \"address\"]]"
   ]
  },
  {
   "cell_type": "code",
   "execution_count": 91,
   "id": "657dfa9b",
   "metadata": {},
   "outputs": [],
   "source": [
    "dffinalnew = pd.concat([x3, dfn], axis = 1)"
   ]
  },
  {
   "cell_type": "markdown",
   "id": "f53f0275",
   "metadata": {},
   "source": [
    "##### RESETEAMOS LOS INDEX Y CONVERTIMOS LOS DATAFRAMES LIMPIOS A JSON"
   ]
  },
  {
   "cell_type": "markdown",
   "id": "23628963",
   "metadata": {},
   "source": [
    "##### MADRID"
   ]
  },
  {
   "cell_type": "code",
   "execution_count": 202,
   "id": "f417c035",
   "metadata": {},
   "outputs": [],
   "source": [
    "dffinalmad\n",
    "df_madrid = dffinalmad.reset_index()\n",
    "Madrid = df_madrid"
   ]
  },
  {
   "cell_type": "code",
   "execution_count": 203,
   "id": "560c639a",
   "metadata": {},
   "outputs": [],
   "source": [
    "jsmad = Madrid.to_json(orient = 'index')"
   ]
  },
  {
   "cell_type": "markdown",
   "id": "4adb9b6e",
   "metadata": {},
   "source": [
    "##### BEIJING"
   ]
  },
  {
   "cell_type": "code",
   "execution_count": 193,
   "id": "5a8383b2",
   "metadata": {},
   "outputs": [],
   "source": [
    "dffinalbei\n",
    "df_beijing = dffinalbei.reset_index()\n",
    "Beijing = df_beijing"
   ]
  },
  {
   "cell_type": "code",
   "execution_count": 194,
   "id": "d1c7531e",
   "metadata": {},
   "outputs": [],
   "source": [
    "jsbei = Beijing.to_json(orient = 'index')"
   ]
  },
  {
   "cell_type": "markdown",
   "id": "c66bf137",
   "metadata": {},
   "source": [
    "##### NEW YORK"
   ]
  },
  {
   "cell_type": "code",
   "execution_count": 133,
   "id": "a21a4774",
   "metadata": {},
   "outputs": [],
   "source": [
    "dffinalnew\n",
    "df_newyork = dffinalnew.reset_index()\n",
    "Newyork = df_newyork"
   ]
  },
  {
   "cell_type": "code",
   "execution_count": 101,
   "id": "0eb9af3a",
   "metadata": {},
   "outputs": [],
   "source": [
    "jsnew = Newyork.to_json(orient = 'index')"
   ]
  },
  {
   "cell_type": "markdown",
   "id": "e21ccb82",
   "metadata": {},
   "source": [
    "##### SAN FRANCISCO"
   ]
  },
  {
   "cell_type": "code",
   "execution_count": 179,
   "id": "0d4e614a",
   "metadata": {},
   "outputs": [
    {
     "data": {
      "text/plain": [
       "pandas.core.frame.DataFrame"
      ]
     },
     "execution_count": 179,
     "metadata": {},
     "output_type": "execute_result"
    }
   ],
   "source": [
    "dffinalsan\n",
    "df_sanfran = dffinalsan.reset_index()\n",
    "Sanfrancisco = df_sanfran\n",
    "Sanfrancisco"
   ]
  },
  {
   "cell_type": "code",
   "execution_count": 173,
   "id": "a6ccd5ab",
   "metadata": {},
   "outputs": [],
   "source": [
    "jssan = Sanfrancisco.to_json(orient = 'index')"
   ]
  },
  {
   "cell_type": "markdown",
   "id": "ad5fe9a9",
   "metadata": {},
   "source": [
    "##### EXPORTO LOS JSON A MONGODB\n"
   ]
  },
  {
   "cell_type": "markdown",
   "id": "53ec9e2d",
   "metadata": {},
   "source": [
    "##### NEW YORK"
   ]
  },
  {
   "cell_type": "code",
   "execution_count": 135,
   "id": "580e107b",
   "metadata": {},
   "outputs": [
    {
     "data": {
      "text/html": [
       "<div>\n",
       "<style scoped>\n",
       "    .dataframe tbody tr th:only-of-type {\n",
       "        vertical-align: middle;\n",
       "    }\n",
       "\n",
       "    .dataframe tbody tr th {\n",
       "        vertical-align: top;\n",
       "    }\n",
       "\n",
       "    .dataframe thead th {\n",
       "        text-align: right;\n",
       "    }\n",
       "</style>\n",
       "<table border=\"1\" class=\"dataframe\">\n",
       "  <thead>\n",
       "    <tr style=\"text-align: right;\">\n",
       "      <th></th>\n",
       "      <th>index</th>\n",
       "      <th>lat</th>\n",
       "      <th>lng</th>\n",
       "      <th>distance</th>\n",
       "      <th>address</th>\n",
       "      <th>name</th>\n",
       "      <th>geometry</th>\n",
       "    </tr>\n",
       "  </thead>\n",
       "  <tbody>\n",
       "    <tr>\n",
       "      <th>10</th>\n",
       "      <td>10</td>\n",
       "      <td>40.748914</td>\n",
       "      <td>-73.970107</td>\n",
       "      <td>1794</td>\n",
       "      <td>25 Tudor City Pl</td>\n",
       "      <td>Preschool Of America</td>\n",
       "      <td>POINT (-73.97011 40.74891)</td>\n",
       "    </tr>\n",
       "  </tbody>\n",
       "</table>\n",
       "</div>"
      ],
      "text/plain": [
       "    index        lat        lng  distance           address  \\\n",
       "10     10  40.748914 -73.970107      1794  25 Tudor City Pl   \n",
       "\n",
       "                    name                    geometry  \n",
       "10  Preschool Of America  POINT (-73.97011 40.74891)  "
      ]
     },
     "execution_count": 135,
     "metadata": {},
     "output_type": "execute_result"
    }
   ],
   "source": [
    "Newyork_gdf = gpd.GeoDataFrame(Newyork, geometry = gpd.points_from_xy(Newyork.lng, Newyork.lat))\n",
    "Newyork_gdf.sample()"
   ]
  },
  {
   "cell_type": "code",
   "execution_count": 136,
   "id": "3d62d5f0",
   "metadata": {},
   "outputs": [
    {
     "data": {
      "text/plain": [
       "Database(MongoClient(host=['localhost:27017'], document_class=dict, tz_aware=False, connect=True), 'ironhack')"
      ]
     },
     "execution_count": 136,
     "metadata": {},
     "output_type": "execute_result"
    }
   ],
   "source": [
    "client = pymongo.MongoClient(\"localhost:27017\")\n",
    "db = client.get_database(\"ironhack\")\n",
    "db"
   ]
  },
  {
   "cell_type": "code",
   "execution_count": 174,
   "id": "6da7d330",
   "metadata": {},
   "outputs": [],
   "source": [
    "Newyork = db.get_collection(\"Newyork\")\n",
    "Sanfrancisco = db.get_collection(\"Sanfrancisco\")\n",
    "Beijing = db.get_collection(\"Beijing\")\n",
    "Madrid = db.get_collection(\"Madrid\")"
   ]
  },
  {
   "cell_type": "code",
   "execution_count": 138,
   "id": "69965750",
   "metadata": {},
   "outputs": [
    {
     "name": "stderr",
     "output_type": "stream",
     "text": [
      "/usr/local/Caskroom/miniconda/base/envs/ironhack/lib/python3.8/site-packages/geopandas/geodataframe.py:1350: UserWarning: Geometry column does not contain geometry.\n",
      "  warnings.warn(\"Geometry column does not contain geometry.\")\n"
     ]
    }
   ],
   "source": [
    "Newyork_gdf['geometry']=Newyork_gdf['geometry'].apply(lambda x:shapely.geometry.mapping(x))"
   ]
  },
  {
   "cell_type": "code",
   "execution_count": 139,
   "id": "85d73abe",
   "metadata": {},
   "outputs": [],
   "source": [
    "Newyork_dicc = Newyork_gdf.to_dict(orient=\"records\")"
   ]
  },
  {
   "cell_type": "code",
   "execution_count": 140,
   "id": "866b96b7",
   "metadata": {},
   "outputs": [
    {
     "data": {
      "text/plain": [
       "'geometry_2dsphere'"
      ]
     },
     "execution_count": 140,
     "metadata": {},
     "output_type": "execute_result"
    }
   ],
   "source": [
    "Newyork.create_index([(\"geometry\", GEOSPHERE)])"
   ]
  },
  {
   "cell_type": "code",
   "execution_count": 141,
   "id": "3f8bdcea",
   "metadata": {},
   "outputs": [
    {
     "data": {
      "text/plain": [
       "<pymongo.results.InsertManyResult at 0x7fcfeff2d1c0>"
      ]
     },
     "execution_count": 141,
     "metadata": {},
     "output_type": "execute_result"
    }
   ],
   "source": [
    "Newyork.insert_many(Newyork_dicc)"
   ]
  },
  {
   "cell_type": "markdown",
   "id": "a2b4319e",
   "metadata": {},
   "source": [
    "##### SAN FRANCISCO"
   ]
  },
  {
   "cell_type": "code",
   "execution_count": 182,
   "id": "276ce7ca",
   "metadata": {},
   "outputs": [
    {
     "data": {
      "text/html": [
       "<div>\n",
       "<style scoped>\n",
       "    .dataframe tbody tr th:only-of-type {\n",
       "        vertical-align: middle;\n",
       "    }\n",
       "\n",
       "    .dataframe tbody tr th {\n",
       "        vertical-align: top;\n",
       "    }\n",
       "\n",
       "    .dataframe thead th {\n",
       "        text-align: right;\n",
       "    }\n",
       "</style>\n",
       "<table border=\"1\" class=\"dataframe\">\n",
       "  <thead>\n",
       "    <tr style=\"text-align: right;\">\n",
       "      <th></th>\n",
       "      <th>index</th>\n",
       "      <th>lat</th>\n",
       "      <th>lng</th>\n",
       "      <th>distance</th>\n",
       "      <th>address</th>\n",
       "      <th>name</th>\n",
       "      <th>geometry</th>\n",
       "    </tr>\n",
       "  </thead>\n",
       "  <tbody>\n",
       "    <tr>\n",
       "      <th>8</th>\n",
       "      <td>8</td>\n",
       "      <td>37.657025</td>\n",
       "      <td>-122.445408</td>\n",
       "      <td>3528</td>\n",
       "      <td>120 El Campo Dr</td>\n",
       "      <td>Buri Buri Elementary School</td>\n",
       "      <td>POINT (-122.44541 37.65702)</td>\n",
       "    </tr>\n",
       "  </tbody>\n",
       "</table>\n",
       "</div>"
      ],
      "text/plain": [
       "   index        lat         lng  distance          address  \\\n",
       "8      8  37.657025 -122.445408      3528  120 El Campo Dr   \n",
       "\n",
       "                          name                     geometry  \n",
       "8  Buri Buri Elementary School  POINT (-122.44541 37.65702)  "
      ]
     },
     "execution_count": 182,
     "metadata": {},
     "output_type": "execute_result"
    }
   ],
   "source": [
    "Sanfrancisco_gdf = gpd.GeoDataFrame(Sanfrancisco, geometry = gpd.points_from_xy(Sanfrancisco.lng, Sanfrancisco.lat))\n",
    "Sanfrancisco_gdf.sample()"
   ]
  },
  {
   "cell_type": "code",
   "execution_count": 183,
   "id": "77a074bf",
   "metadata": {},
   "outputs": [
    {
     "name": "stderr",
     "output_type": "stream",
     "text": [
      "/usr/local/Caskroom/miniconda/base/envs/ironhack/lib/python3.8/site-packages/geopandas/geodataframe.py:1350: UserWarning: Geometry column does not contain geometry.\n",
      "  warnings.warn(\"Geometry column does not contain geometry.\")\n"
     ]
    }
   ],
   "source": [
    "Sanfrancisco_gdf['geometry'] = Sanfrancisco_gdf['geometry'].apply(lambda x:shapely.geometry.mapping(x))"
   ]
  },
  {
   "cell_type": "code",
   "execution_count": 184,
   "id": "4c6ed28b",
   "metadata": {},
   "outputs": [],
   "source": [
    "Sanfrancisco_dicc = Sanfrancisco_gdf.to_dict(orient=\"records\")"
   ]
  },
  {
   "cell_type": "code",
   "execution_count": 187,
   "id": "c5a562a5",
   "metadata": {},
   "outputs": [],
   "source": [
    "Sanfrancisco = db.get_collection(\"Sanfrancisco\")"
   ]
  },
  {
   "cell_type": "code",
   "execution_count": 188,
   "id": "3fe2dbba",
   "metadata": {},
   "outputs": [
    {
     "data": {
      "text/plain": [
       "'geometry_2dsphere'"
      ]
     },
     "execution_count": 188,
     "metadata": {},
     "output_type": "execute_result"
    }
   ],
   "source": [
    "Sanfrancisco.create_index([(\"geometry\", GEOSPHERE)])"
   ]
  },
  {
   "cell_type": "code",
   "execution_count": 189,
   "id": "02839c13",
   "metadata": {},
   "outputs": [
    {
     "data": {
      "text/plain": [
       "<pymongo.results.InsertManyResult at 0x7fcff08134c0>"
      ]
     },
     "execution_count": 189,
     "metadata": {},
     "output_type": "execute_result"
    }
   ],
   "source": [
    "Sanfrancisco.insert_many(Sanfrancisco_dicc)"
   ]
  },
  {
   "cell_type": "markdown",
   "id": "2958cf85",
   "metadata": {},
   "source": [
    "##### BIEJING"
   ]
  },
  {
   "cell_type": "code",
   "execution_count": 195,
   "id": "45f32e23",
   "metadata": {},
   "outputs": [
    {
     "data": {
      "text/html": [
       "<div>\n",
       "<style scoped>\n",
       "    .dataframe tbody tr th:only-of-type {\n",
       "        vertical-align: middle;\n",
       "    }\n",
       "\n",
       "    .dataframe tbody tr th {\n",
       "        vertical-align: top;\n",
       "    }\n",
       "\n",
       "    .dataframe thead th {\n",
       "        text-align: right;\n",
       "    }\n",
       "</style>\n",
       "<table border=\"1\" class=\"dataframe\">\n",
       "  <thead>\n",
       "    <tr style=\"text-align: right;\">\n",
       "      <th></th>\n",
       "      <th>index</th>\n",
       "      <th>lat</th>\n",
       "      <th>lng</th>\n",
       "      <th>distance</th>\n",
       "      <th>address</th>\n",
       "      <th>name</th>\n",
       "      <th>geometry</th>\n",
       "    </tr>\n",
       "  </thead>\n",
       "  <tbody>\n",
       "    <tr>\n",
       "      <th>4</th>\n",
       "      <td>0</td>\n",
       "      <td>39.880319</td>\n",
       "      <td>116.312521</td>\n",
       "      <td>2213</td>\n",
       "      <td>W 3rd Ring South Rd</td>\n",
       "      <td>Hutong Chuaner Bar (胡同串儿吧)</td>\n",
       "      <td>POINT (116.31252 39.88032)</td>\n",
       "    </tr>\n",
       "  </tbody>\n",
       "</table>\n",
       "</div>"
      ],
      "text/plain": [
       "   index        lat         lng  distance              address  \\\n",
       "4      0  39.880319  116.312521      2213  W 3rd Ring South Rd   \n",
       "\n",
       "                         name                    geometry  \n",
       "4  Hutong Chuaner Bar (胡同串儿吧)  POINT (116.31252 39.88032)  "
      ]
     },
     "execution_count": 195,
     "metadata": {},
     "output_type": "execute_result"
    }
   ],
   "source": [
    "Beijing_gdf = gpd.GeoDataFrame(Beijing, geometry = gpd.points_from_xy(Beijing.lng, Beijing.lat))\n",
    "Beijing_gdf.sample()"
   ]
  },
  {
   "cell_type": "code",
   "execution_count": 196,
   "id": "a376841a",
   "metadata": {},
   "outputs": [
    {
     "name": "stderr",
     "output_type": "stream",
     "text": [
      "/usr/local/Caskroom/miniconda/base/envs/ironhack/lib/python3.8/site-packages/geopandas/geodataframe.py:1350: UserWarning: Geometry column does not contain geometry.\n",
      "  warnings.warn(\"Geometry column does not contain geometry.\")\n"
     ]
    }
   ],
   "source": [
    "Beijing_gdf['geometry'] = Beijing_gdf['geometry'].apply(lambda x:shapely.geometry.mapping(x))"
   ]
  },
  {
   "cell_type": "code",
   "execution_count": 197,
   "id": "301ddc76",
   "metadata": {},
   "outputs": [],
   "source": [
    "Beijing_dicc = Beijing_gdf.to_dict(orient=\"records\")"
   ]
  },
  {
   "cell_type": "code",
   "execution_count": 198,
   "id": "e9e1ad1b",
   "metadata": {},
   "outputs": [],
   "source": [
    "Beijing = db.get_collection(\"Beijing\")"
   ]
  },
  {
   "cell_type": "code",
   "execution_count": 199,
   "id": "bb826d60",
   "metadata": {},
   "outputs": [
    {
     "data": {
      "text/plain": [
       "'geometry_2dsphere'"
      ]
     },
     "execution_count": 199,
     "metadata": {},
     "output_type": "execute_result"
    }
   ],
   "source": [
    "Beijing.create_index([(\"geometry\", GEOSPHERE)])"
   ]
  },
  {
   "cell_type": "code",
   "execution_count": 200,
   "id": "20faa7ac",
   "metadata": {},
   "outputs": [
    {
     "data": {
      "text/plain": [
       "<pymongo.results.InsertManyResult at 0x7fcff006ad00>"
      ]
     },
     "execution_count": 200,
     "metadata": {},
     "output_type": "execute_result"
    }
   ],
   "source": [
    "Beijing.insert_many(Sanfrancisco_dicc)"
   ]
  },
  {
   "cell_type": "markdown",
   "id": "43814fae",
   "metadata": {},
   "source": [
    "##### MADRID"
   ]
  },
  {
   "cell_type": "code",
   "execution_count": 204,
   "id": "817982f5",
   "metadata": {},
   "outputs": [
    {
     "data": {
      "text/html": [
       "<div>\n",
       "<style scoped>\n",
       "    .dataframe tbody tr th:only-of-type {\n",
       "        vertical-align: middle;\n",
       "    }\n",
       "\n",
       "    .dataframe tbody tr th {\n",
       "        vertical-align: top;\n",
       "    }\n",
       "\n",
       "    .dataframe thead th {\n",
       "        text-align: right;\n",
       "    }\n",
       "</style>\n",
       "<table border=\"1\" class=\"dataframe\">\n",
       "  <thead>\n",
       "    <tr style=\"text-align: right;\">\n",
       "      <th></th>\n",
       "      <th>index</th>\n",
       "      <th>lat</th>\n",
       "      <th>lng</th>\n",
       "      <th>distance</th>\n",
       "      <th>address</th>\n",
       "      <th>name</th>\n",
       "      <th>geometry</th>\n",
       "    </tr>\n",
       "  </thead>\n",
       "  <tbody>\n",
       "    <tr>\n",
       "      <th>54</th>\n",
       "      <td>24</td>\n",
       "      <td>40.408634</td>\n",
       "      <td>-3.697413</td>\n",
       "      <td>1384</td>\n",
       "      <td>Santa Isabel 42</td>\n",
       "      <td>Alma Cafe Bar</td>\n",
       "      <td>POINT (-3.69741 40.40863)</td>\n",
       "    </tr>\n",
       "  </tbody>\n",
       "</table>\n",
       "</div>"
      ],
      "text/plain": [
       "    index        lat       lng  distance          address           name  \\\n",
       "54     24  40.408634 -3.697413      1384  Santa Isabel 42  Alma Cafe Bar   \n",
       "\n",
       "                     geometry  \n",
       "54  POINT (-3.69741 40.40863)  "
      ]
     },
     "execution_count": 204,
     "metadata": {},
     "output_type": "execute_result"
    }
   ],
   "source": [
    "Madrid_gdf = gpd.GeoDataFrame(Madrid, geometry = gpd.points_from_xy(Madrid.lng, Madrid.lat))\n",
    "Madrid_gdf.sample()"
   ]
  },
  {
   "cell_type": "code",
   "execution_count": 205,
   "id": "57d3f876",
   "metadata": {},
   "outputs": [
    {
     "name": "stderr",
     "output_type": "stream",
     "text": [
      "/usr/local/Caskroom/miniconda/base/envs/ironhack/lib/python3.8/site-packages/geopandas/geodataframe.py:1350: UserWarning: Geometry column does not contain geometry.\n",
      "  warnings.warn(\"Geometry column does not contain geometry.\")\n"
     ]
    }
   ],
   "source": [
    "Madrid_gdf['geometry'] = Madrid_gdf['geometry'].apply(lambda x:shapely.geometry.mapping(x))"
   ]
  },
  {
   "cell_type": "code",
   "execution_count": 206,
   "id": "85944cb4",
   "metadata": {},
   "outputs": [],
   "source": [
    "Madrid_dicc = Madrid_gdf.to_dict(orient=\"records\")"
   ]
  },
  {
   "cell_type": "code",
   "execution_count": 207,
   "id": "99f1169b",
   "metadata": {},
   "outputs": [],
   "source": [
    "Madrid = db.get_collection(\"Madrid\")"
   ]
  },
  {
   "cell_type": "code",
   "execution_count": 208,
   "id": "9ea9aee1",
   "metadata": {},
   "outputs": [
    {
     "data": {
      "text/plain": [
       "'geometry_2dsphere'"
      ]
     },
     "execution_count": 208,
     "metadata": {},
     "output_type": "execute_result"
    }
   ],
   "source": [
    "Madrid.create_index([(\"geometry\", GEOSPHERE)])"
   ]
  },
  {
   "cell_type": "code",
   "execution_count": 209,
   "id": "de1efb34",
   "metadata": {},
   "outputs": [
    {
     "data": {
      "text/plain": [
       "<pymongo.results.InsertManyResult at 0x7fcff0a36ec0>"
      ]
     },
     "execution_count": 209,
     "metadata": {},
     "output_type": "execute_result"
    }
   ],
   "source": [
    "Madrid.insert_many(Madrid_dicc)"
   ]
  },
  {
   "cell_type": "code",
   "execution_count": null,
   "id": "bb9a7f32",
   "metadata": {},
   "outputs": [],
   "source": []
  },
  {
   "cell_type": "markdown",
   "id": "ba08c676",
   "metadata": {},
   "source": [
    "Borrador"
   ]
  },
  {
   "cell_type": "code",
   "execution_count": null,
   "id": "d557f494",
   "metadata": {},
   "outputs": [],
   "source": [
    "mad_school[\"response\"][\"venues\"][1][\"name\"]"
   ]
  },
  {
   "cell_type": "code",
   "execution_count": null,
   "id": "49d179fc",
   "metadata": {},
   "outputs": [],
   "source": [
    "mad_school[\"response\"][\"venues\"][1][\"location\"][\"lat\"]"
   ]
  },
  {
   "cell_type": "code",
   "execution_count": null,
   "id": "d34656f8",
   "metadata": {},
   "outputs": [],
   "source": [
    "mad_school[\"response\"][\"venues\"][1][\"location\"][\"lng\"]"
   ]
  },
  {
   "cell_type": "code",
   "execution_count": null,
   "id": "5a396a1a",
   "metadata": {},
   "outputs": [],
   "source": [
    "mad_school[\"response\"][\"venues\"][1][\"location\"][\"distance\"]"
   ]
  },
  {
   "cell_type": "code",
   "execution_count": null,
   "id": "7d0703f9",
   "metadata": {},
   "outputs": [],
   "source": [
    "mad_school[\"response\"][\"venues\"][1][\"location\"][\"city\"]"
   ]
  },
  {
   "cell_type": "markdown",
   "id": "0ccb01f7",
   "metadata": {},
   "source": [
    "##### LET'S TAKE A LOOK TO THE JSON THROUGH PYJSONVIEWER"
   ]
  },
  {
   "cell_type": "code",
   "execution_count": null,
   "id": "3393adb4",
   "metadata": {},
   "outputs": [],
   "source": [
    "import json\n",
    "with open('data.json', 'w') as f:\n",
    "    json.dump(mad_school, f)"
   ]
  },
  {
   "cell_type": "code",
   "execution_count": null,
   "id": "663be04b",
   "metadata": {},
   "outputs": [],
   "source": [
    "pyjsonviewer.view_data(json_file=\"data.json\")"
   ]
  }
 ],
 "metadata": {
  "kernelspec": {
   "display_name": "ironhack",
   "language": "python",
   "name": "ironhack"
  },
  "language_info": {
   "codemirror_mode": {
    "name": "ipython",
    "version": 3
   },
   "file_extension": ".py",
   "mimetype": "text/x-python",
   "name": "python",
   "nbconvert_exporter": "python",
   "pygments_lexer": "ipython3",
   "version": "3.8.12"
  }
 },
 "nbformat": 4,
 "nbformat_minor": 5
}
