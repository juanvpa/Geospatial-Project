{
 "cells": [
  {
   "cell_type": "markdown",
   "id": "fe4d0793",
   "metadata": {},
   "source": [
    "#### CLEANING ALL THE DATA NEED TO MAKE A DECISION\n",
    "\n"
   ]
  },
  {
   "cell_type": "markdown",
   "id": "7d600b32",
   "metadata": {},
   "source": [
    "##### IMPORT"
   ]
  },
  {
   "cell_type": "code",
   "execution_count": 1,
   "id": "86f543e5",
   "metadata": {},
   "outputs": [],
   "source": [
    "import requests\n",
    "import json\n",
    "from dotenv import load_dotenv\n",
    "import os\n",
    "import pandas as pd"
   ]
  },
  {
   "cell_type": "markdown",
   "id": "ba7b693d",
   "metadata": {},
   "source": [
    "##### DEFINE THE CITIES TO TARGET"
   ]
  },
  {
   "cell_type": "code",
   "execution_count": 52,
   "id": "99a6ca8c",
   "metadata": {},
   "outputs": [],
   "source": [
    "silicon = \"1 Hacker Way, California\"\n",
    "newyork = \"117 W 56th St, New York\"\n",
    "beijing = \"16 Fengguan Rd, Fengtai Qu\"\n",
    "madrid = \"Paseo de la chopera 14, Madrid\""
   ]
  },
  {
   "cell_type": "code",
   "execution_count": 28,
   "id": "4bcb4dfe",
   "metadata": {},
   "outputs": [],
   "source": [
    "def geocode(direccion):\n",
    "    \"\"\"\n",
    "    Esta función saca las coordenadas de la dirección que le pases\n",
    "    \"\"\"\n",
    "    data = requests.get(f\"https://geocode.xyz/{direccion}?json=1\").json()\n",
    "    \n",
    "    try:\n",
    "        return {\"type\": \"Point\", \"coordinates\": [data[\"latt\"], data[\"longt\"]]}\n",
    "    except:\n",
    "        return data"
   ]
  },
  {
   "cell_type": "code",
   "execution_count": 53,
   "id": "17283b37",
   "metadata": {},
   "outputs": [
    {
     "name": "stdout",
     "output_type": "stream",
     "text": [
      "{'type': 'Point', 'coordinates': ['39.86048', '116.31072']}\n"
     ]
    }
   ],
   "source": [
    "print(geocode(\"16 Fengguan Rd, Beijing\"))"
   ]
  },
  {
   "cell_type": "code",
   "execution_count": 54,
   "id": "5a534d12",
   "metadata": {},
   "outputs": [
    {
     "name": "stdout",
     "output_type": "stream",
     "text": [
      "{'type': 'Point', 'coordinates': ['37.66852', '-122.40809']}\n"
     ]
    }
   ],
   "source": [
    "print(geocode(\"1 Hacker Way, San Francisco\"))"
   ]
  },
  {
   "cell_type": "code",
   "execution_count": 58,
   "id": "0c41ba55",
   "metadata": {},
   "outputs": [
    {
     "name": "stdout",
     "output_type": "stream",
     "text": [
      "{'success': False, 'error': {'code': '006', 'message': 'Request Throttled. Over Rate limit: up to 2 per sec. See geocode.xyz/pricing', 'requests': '6'}}\n"
     ]
    }
   ],
   "source": [
    "print(geocode(\"117 W 56th St, New York\"))"
   ]
  },
  {
   "cell_type": "code",
   "execution_count": 56,
   "id": "73abf7fa",
   "metadata": {},
   "outputs": [
    {
     "name": "stdout",
     "output_type": "stream",
     "text": [
      "{'success': False, 'error': {'code': '006', 'message': 'Request Throttled. Over Rate limit: up to 2 per sec. See geocode.xyz/pricing', 'requests': '6'}}\n"
     ]
    }
   ],
   "source": [
    "print(geocode(\"Paseo de la chopera 14, Madrid\"))"
   ]
  },
  {
   "cell_type": "code",
   "execution_count": 51,
   "id": "379df8ee",
   "metadata": {},
   "outputs": [],
   "source": [
    "coord = {\n",
    "    \"Silicon Valley\":['37.66852', '-122.40809'],\n",
    "    \"New York\":['40.76384', '-73.97815'],\n",
    "    \"Beijing\":['39.86048', '116.31072'],\n",
    "    \"Madrid\":['40.39652', '-3.70110']}"
   ]
  },
  {
   "cell_type": "markdown",
   "id": "ac222611",
   "metadata": {},
   "source": [
    "##### FOURSQUARE API"
   ]
  },
  {
   "cell_type": "code",
   "execution_count": null,
   "id": "6c6ca79c",
   "metadata": {},
   "outputs": [],
   "source": [
    "load_dotenv()"
   ]
  }
 ],
 "metadata": {
  "kernelspec": {
   "display_name": "ironhack",
   "language": "python",
   "name": "ironhack"
  },
  "language_info": {
   "codemirror_mode": {
    "name": "ipython",
    "version": 3
   },
   "file_extension": ".py",
   "mimetype": "text/x-python",
   "name": "python",
   "nbconvert_exporter": "python",
   "pygments_lexer": "ipython3",
   "version": "3.8.12"
  }
 },
 "nbformat": 4,
 "nbformat_minor": 5
}
